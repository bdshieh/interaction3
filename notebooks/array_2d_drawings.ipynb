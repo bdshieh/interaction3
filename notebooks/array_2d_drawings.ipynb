{
 "cells": [
  {
   "cell_type": "code",
   "execution_count": 29,
   "metadata": {},
   "outputs": [],
   "source": [
    "############# NOTEBOOK PARAMETERS ##############\n",
    "\n",
    "parameters = dict()\n",
    "parameters['file'] = None # set to None for file prompt\n",
    "parameters['dynamic_range'] = 40\n",
    "parameters['interpolation'] = 'bilinear'\n",
    "parameters['cmap'] = 'viridis'\n",
    "\n",
    "################################################\n",
    "\n",
    "import sys, os\n",
    "sys.path.append(os.path.join(os.getcwd(), '..'))\n",
    "\n",
    "from notebook_functions import *\n",
    "from mpl_toolkits import mplot3d as mp3d\n",
    "from matplotlib import patches\n",
    "from interaction3 import abstract\n",
    "\n",
    "\n",
    "## FUNCTIONS ##\n",
    "\n",
    "## SCRIPT ##\n",
    "\n",
    "if parameters['file'] is None:\n",
    "    parameters['file'] = open_file_dialog()\n",
    "\n",
    "file = parameters['file']\n",
    "arrays = abstract.load(file)\n",
    "if not isinstance(arrays, (list, tuple)):\n",
    "    arrays = list(arrays)"
   ]
  },
  {
   "cell_type": "markdown",
   "metadata": {},
   "source": [
    "### <center>Notebook parameters</center>"
   ]
  },
  {
   "cell_type": "code",
   "execution_count": 2,
   "metadata": {},
   "outputs": [
    {
     "data": {
      "text/html": [
       "<center><table>\n",
       "<tbody>\n",
       "<tr><td>file         </td><td>C:/Bernie/Projects/interaction3/foldable_vernier.json</td></tr>\n",
       "<tr><td>dynamic_range</td><td>40                                                   </td></tr>\n",
       "<tr><td>interpolation</td><td>bilinear                                             </td></tr>\n",
       "<tr><td>cmap         </td><td>viridis                                              </td></tr>\n",
       "</tbody>\n",
       "</table></center>"
      ],
      "text/plain": [
       "<IPython.core.display.HTML object>"
      ]
     },
     "metadata": {},
     "output_type": "display_data"
    }
   ],
   "source": [
    "display(HTML('<center>' + tabulate.tabulate(parameters.items(), tablefmt='html') + '</center>'))"
   ]
  },
  {
   "cell_type": "markdown",
   "metadata": {},
   "source": [
    "### <center>Drawing</center>"
   ]
  },
  {
   "cell_type": "code",
   "execution_count": 53,
   "metadata": {},
   "outputs": [
    {
     "data": {
      "application/vnd.jupyter.widget-view+json": {
       "model_id": "9af18455738e4deebfad396ce08156ec",
       "version_major": 2,
       "version_minor": 0
      },
      "text/html": [
       "<p>Failed to display Jupyter Widget of type <code>Button</code>.</p>\n",
       "<p>\n",
       "  If you're reading this message in the Jupyter Notebook or JupyterLab Notebook, it may mean\n",
       "  that the widgets JavaScript is still loading. If this message persists, it\n",
       "  likely means that the widgets JavaScript library is either not installed or\n",
       "  not enabled. See the <a href=\"https://ipywidgets.readthedocs.io/en/stable/user_install.html\">Jupyter\n",
       "  Widgets Documentation</a> for setup instructions.\n",
       "</p>\n",
       "<p>\n",
       "  If you're reading this message in another frontend (for example, a static\n",
       "  rendering on GitHub or <a href=\"https://nbviewer.jupyter.org/\">NBViewer</a>),\n",
       "  it may mean that your frontend doesn't currently support widgets.\n",
       "</p>\n"
      ],
      "text/plain": [
       "Button(description='Export figures', style=ButtonStyle())"
      ]
     },
     "metadata": {},
     "output_type": "display_data"
    },
    {
     "data": {
      "image/png": "[encoded data removed]",
      "text/plain": [
       "<matplotlib.figure.Figure at 0x1413d9e8>"
      ]
     },
     "metadata": {},
     "output_type": "display_data"
    }
   ],
   "source": [
    "def plot(arrays):\n",
    "\n",
    "    def rotate_nodes(nodes, vec, angle):\n",
    "        rmatrix = rotation_matrix(vec, angle)\n",
    "        return rmatrix.dot(nodes.T).T\n",
    "    \n",
    "    from matplotlib.collections import PatchCollection\n",
    "    \n",
    "    fig = plt.figure(figsize=(15, 15))\n",
    "    ax = fig.add_subplot(111)\n",
    "    \n",
    "    collection = []\n",
    "    \n",
    "    for array in arrays:\n",
    "        for ch in array['channels']:\n",
    "\n",
    "            kind = ch['kind'].lower()\n",
    "\n",
    "            for elem in ch['elements']:\n",
    "                for mem in elem['membranes']:\n",
    "\n",
    "                    length_x = mem['length_x']\n",
    "                    length_y = mem['length_y']\n",
    "                    center = mem['position']\n",
    "                    rotations = mem.get('rotations', None)\n",
    "\n",
    "                    vertices = np.array([[-length_x / 2, -length_y / 2, 0],\n",
    "                                         [-length_x / 2, length_y / 2, 0],\n",
    "                                         [length_x / 2, length_y / 2, 0],\n",
    "                                         [length_x / 2, -length_y / 2, 0]])\n",
    "\n",
    "                    if rotations is not None:\n",
    "                        for vec, angle in rotations:\n",
    "                            vertices = rotate_nodes(vertices, vec, angle)\n",
    "\n",
    "                    vertices = vertices + center\n",
    "\n",
    "                    poly = patches.Polygon(vertices[:, :2], lw=0.1)\n",
    "#                     poly.set_edgecolor('black')\n",
    "                    \n",
    "                    if kind in ['transmit', 'tx']:\n",
    "                        poly.set_color(red)\n",
    "                    elif kind in ['receive', 'rx']:\n",
    "                        poly.set_color(blue)\n",
    "                    elif kind in ['both', 'txrx']:\n",
    "                        poly.set_color(purple)\n",
    "                    \n",
    "                    collection.append(poly)\n",
    "                    \n",
    "    ax.add_collection(PatchCollection(collection, match_original=True))\n",
    "    \n",
    "    plt.tight_layout()\n",
    "    \n",
    "    # set limits\n",
    "    centers = np.concatenate(abstract.get_membrane_positions_from_array(arrays), axis=0)\n",
    "    \n",
    "    xmax, ymax, _ = np.max(np.abs(centers), axis=0)\n",
    "\n",
    "    xmax = xmax + 5e-4\n",
    "    ymax = ymax + 5e-4\n",
    "    maxdim = max(xmax, ymax)\n",
    "\n",
    "    ax.set_xlim(-xmax, xmax)\n",
    "    ax.set_ylim(-ymax, ymax)\n",
    "    ax.set_axis_off()\n",
    "    ax.set_aspect('equal')\n",
    "    \n",
    "#     proxy1 = patches.Rectangle((0,0), 1, 1, facecolor=red)\n",
    "#     proxy2         = patches.Rectangle((0, 0), 1, 1, facecolor=blue)\n",
    "\n",
    "#     leg = ax.legend([proxy1, proxy2], ['Transmit', 'Receive'], loc='best')\n",
    "#     leg.get_frame().set_linewidth(0.7)\n",
    "#     leg.draggable(state=True)\n",
    "\n",
    "#     fig.show()\n",
    "    return fig, collection\n",
    "\n",
    "\n",
    "# figs = list()\n",
    "# for a in angles:\n",
    "#     figs.append(plot(a))\n",
    "\n",
    "fig, coll = plot(arrays)\n",
    "display(export_widget(fig));"
   ]
  },
  {
   "cell_type": "code",
   "execution_count": null,
   "metadata": {},
   "outputs": [],
   "source": []
  }
 ],
 "metadata": {
  "kernelspec": {
   "display_name": "Python 3",
   "language": "python",
   "name": "python3"
  },
  "language_info": {
   "codemirror_mode": {
    "name": "ipython",
    "version": 3
   },
   "file_extension": ".py",
   "mimetype": "text/x-python",
   "name": "python",
   "nbconvert_exporter": "python",
   "pygments_lexer": "ipython3",
   "version": "3.6.4"
  }
 },
 "nbformat": 4,
 "nbformat_minor": 2
}
