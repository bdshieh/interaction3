{
 "cells": [
  {
   "cell_type": "code",
   "execution_count": 1,
   "metadata": {},
   "outputs": [],
   "source": [
    "\n",
    "from notebook_functions import *\n",
    "\n",
    "############# PARAMETERS #############\n",
    "\n",
    "parameters = dict()\n",
    "parameters['dynamic_range'] = 40\n",
    "\n",
    "######################################\n",
    "\n",
    "\n",
    "## FUNCTIONS ##\n",
    "\n",
    "def load_data(file):\n",
    "    \n",
    "    with closing(sql.connect(file)) as con:\n",
    "        \n",
    "        q = 'SELECT angle, x, y, z, brightness FROM image ORDER BY angle, x, y, z'\n",
    "        table = pd.read_sql(q, con)\n",
    "        \n",
    "    angle = np.array(table['angle'])\n",
    "    field_pos = np.array(table[['x', 'y', 'z']])\n",
    "    brightness = np.array(table['brightness'])\n",
    "    \n",
    "    x, y, z = field_pos.T\n",
    "    nangle = len(np.unique(angle))\n",
    "    nx = len(np.unique(x))\n",
    "    ny = len(np.unique(y))\n",
    "    nz = len(np.unique(z))\n",
    "    \n",
    "    field_pos = field_pos.reshape((nangle, nx, ny, nz, -1))\n",
    "    brightness = brightness.reshape((nangle, nx, ny, nz))\n",
    "    angles = np.unique(angle)\n",
    "    \n",
    "    return brightness, angles, field_pos\n",
    "\n",
    "## SCRIPT ##\n",
    "\n",
    "path_to_file = open_file_dialog()\n",
    "parameters['file'] = path_to_file\n",
    "\n",
    "brightness, angles, field_pos = load_data(path_to_file)\n",
    "x, y, z = field_pos.T\n",
    "dynamic_range = parameters['dynamic_range']\n",
    "\n"
   ]
  },
  {
   "cell_type": "code",
   "execution_count": 3,
   "metadata": {},
   "outputs": [
    {
     "data": {
      "text/markdown": [
       "### <center> Notebook parameters </center>"
      ],
      "text/plain": [
       "<IPython.core.display.Markdown object>"
      ]
     },
     "metadata": {},
     "output_type": "display_data"
    },
    {
     "data": {
      "text/html": [
       "<center><table>\n",
       "<tbody>\n",
       "<tr><td>dynamic_range</td><td>40                                          </td></tr>\n",
       "<tr><td>file         </td><td>D:/Projects/interaction3/folding_error_xz.db</td></tr>\n",
       "</tbody>\n",
       "</table></center>"
      ],
      "text/plain": [
       "<IPython.core.display.HTML object>"
      ]
     },
     "metadata": {},
     "output_type": "display_data"
    },
    {
     "data": {
      "application/vnd.jupyter.widget-view+json": {
       "model_id": "9bb9407a673b49db9ae0a02c8198a1fd",
       "version_major": 2,
       "version_minor": 0
      },
      "text/html": [
       "<p>Failed to display Jupyter Widget of type <code>interactive</code>.</p>\n",
       "<p>\n",
       "  If you're reading this message in the Jupyter Notebook or JupyterLab Notebook, it may mean\n",
       "  that the widgets JavaScript is still loading. If this message persists, it\n",
       "  likely means that the widgets JavaScript library is either not installed or\n",
       "  not enabled. See the <a href=\"https://ipywidgets.readthedocs.io/en/stable/user_install.html\">Jupyter\n",
       "  Widgets Documentation</a> for setup instructions.\n",
       "</p>\n",
       "<p>\n",
       "  If you're reading this message in another frontend (for example, a static\n",
       "  rendering on GitHub or <a href=\"https://nbviewer.jupyter.org/\">NBViewer</a>),\n",
       "  it may mean that your frontend doesn't currently support widgets.\n",
       "</p>\n"
      ],
      "text/plain": [
       "interactive(children=(FloatSlider(value=0.0, description='Angle', max=5.0, step=1.0), Output()), _dom_classes=('widget-interact',))"
      ]
     },
     "metadata": {},
     "output_type": "display_data"
    }
   ],
   "source": [
    "## DISPLAY ##\n",
    "\n",
    "display(Markdown('### <center> Notebook parameters </center>'))\n",
    "display(HTML('<center>' + tabulate.tabulate(parameters.items(), tablefmt='html') + '</center>'))\n",
    "\n",
    "@widgets.interact(a=widgets.FloatSlider(min=np.min(angles), max=np.max(angles), step=np.diff(angles)[0], description='Angle'))\n",
    "def plot(a):\n",
    "    \n",
    "    idx = np.argmin(np.abs(a - angles))\n",
    "    \n",
    "    fig = plt.figure(figsize=(15, 9))\n",
    "    gs = GridSpec(1, 2)\n",
    "    ax1 = fig.add_subplot(gs[0, 0])\n",
    "    ax2 = fig.add_subplot(gs[0, 1])\n",
    "    \n",
    "    extents = (np.min(x), np.max(x)), (np.min(y), np.max(y)), (np.min(z), np.max(z))\n",
    "    shapes = brightness.shape[1:4]\n",
    "    extent = list()\n",
    "    dims = list()\n",
    "    for i in range(3):\n",
    "        if shapes[i] != 1:\n",
    "            extent += extents[i]\n",
    "            dims.append(('x', 'y', 'z')[i])\n",
    "    \n",
    "    bright1 = 20 * np.log10(brightness[idx, ...].squeeze().T / np.max(brightness[idx, ...]))\n",
    "    bright1[bright1 < -dynamic_range] = -dynamic_range\n",
    "    bright2 = 20 * np.log10(brightness[0, ...].squeeze().T / np.max(brightness[0, ...]))\n",
    "    bright2[bright1 < -dynamic_range] = -dynamic_range\n",
    "    \n",
    "    im1 = ax1.imshow(bright1, origin='lower', extent=extent, vmin=-dynamic_range, vmax=0, interpolation='bilinear')\n",
    "    im2 = ax2.imshow(bright2, origin='lower', extent=extent, vmin=-dynamic_range, vmax=0, interpolation='bilinear')\n",
    "    \n",
    "    add_colorbar(im1)\n",
    "    add_colorbar(im2)\n",
    "#     fig.colorbar(im1, ax=ax1)\n",
    "#     fig.colorbar(im2, ax=ax2)\n",
    "    \n",
    "    ax1.set_xlabel(dims[0] + ' (m)')\n",
    "    ax1.set_ylabel(dims[1] + ' (m)')\n",
    "    \n",
    "    ax2.set_xlabel(dims[0] + ' (m)')\n",
    "    ax2.set_ylabel(dims[1] + ' (m)')\n",
    "    \n",
    "    plt.tight_layout()\n"
   ]
  },
  {
   "cell_type": "code",
   "execution_count": null,
   "metadata": {},
   "outputs": [],
   "source": []
  }
 ],
 "metadata": {
  "kernelspec": {
   "display_name": "Python 3",
   "language": "python",
   "name": "python3"
  },
  "language_info": {
   "codemirror_mode": {
    "name": "ipython",
    "version": 3
   },
   "file_extension": ".py",
   "mimetype": "text/x-python",
   "name": "python",
   "nbconvert_exporter": "python",
   "pygments_lexer": "ipython3",
   "version": "3.6.4"
  }
 },
 "nbformat": 4,
 "nbformat_minor": 2
}
