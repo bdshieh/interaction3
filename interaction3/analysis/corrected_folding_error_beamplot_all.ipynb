{
 "cells": [
  {
   "cell_type": "raw",
   "metadata": {},
   "source": [
    "<script>\n",
    "  function code_toggle() {\n",
    "    if (code_shown){\n",
    "      $('div.input').hide('500');\n",
    "      $('#toggleButton').val('Show Code')\n",
    "    } else {\n",
    "      $('div.input').show('500');\n",
    "      $('#toggleButton').val('Hide Code')\n",
    "    }\n",
    "    code_shown = !code_shown\n",
    "  }\n",
    "\n",
    "  $( document ).ready(function(){\n",
    "    code_shown=false;\n",
    "    $('div.input').hide()\n",
    "  });\n",
    "</script>\n",
    "<form action=\"javascript:code_toggle()\"><input type=\"submit\" id=\"toggleButton\" value=\"Show Code\"></form>"
   ]
  },
  {
   "cell_type": "code",
   "execution_count": null,
   "metadata": {},
   "outputs": [],
   "source": [
    "from notebook_functions import *\n",
    "\n",
    "############# PARAMETERS #############\n",
    "\n",
    "parameters = dict()\n",
    "parameters['dynamic_range'] = 40\n",
    "\n",
    "######################################\n",
    "\n",
    "\n",
    "## FUNCTIONS ##\n",
    "\n",
    "def load_data(file):\n",
    "    \n",
    "    with closing(sql.connect(file)) as con:\n",
    "        \n",
    "        q = 'SELECT angle, error_type, x, y, z, brightness FROM image ORDER BY angle, x, y, z'\n",
    "        table = pd.read_sql(q, con)\n",
    "        \n",
    "    angles = np.unique(np.array(table['angle']))\n",
    "    field_pos = np.array(table.loc[table['error_type'] == 'plus', ['x', 'y', 'z']])\n",
    "    plus_brightness = np.array(table.loc[table['error_type'] == 'plus', 'brightness'])\n",
    "    minus_brightness = np.array(table.loc[table['error_type'] == 'minus', 'brightness'])\n",
    "    \n",
    "    x, y, z = field_pos.T\n",
    "    nangle = len(angles)\n",
    "    nx = len(np.unique(x))\n",
    "    ny = len(np.unique(y))\n",
    "    nz = len(np.unique(z))\n",
    "    \n",
    "    field_pos = field_pos.reshape((nangle, nx, ny, nz, -1))\n",
    "    plus_brightness = plus_brightness.reshape((nangle, nx, ny, nz))\n",
    "    minus_brightness = minus_brightness.reshape((nangle, nx, ny, nz))\n",
    "    \n",
    "    return plus_brightness, minus_brightness, angles, field_pos\n",
    "\n",
    "## SCRIPT ##\n",
    "\n",
    "path_to_file = open_file_dialog()\n",
    "parameters['file'] = path_to_file\n",
    "\n",
    "plus_brightness, minus_brightness, angles, field_pos = load_data(path_to_file)\n",
    "x, y, z = field_pos.T\n",
    "dynamic_range = parameters['dynamic_range']"
   ]
  },
  {
   "cell_type": "code",
   "execution_count": null,
   "metadata": {},
   "outputs": [],
   "source": [
    "## DISPLAY ##\n",
    "\n",
    "display(Markdown('### <center> Notebook parameters </center>'))\n",
    "display(HTML('<center>' + tabulate.tabulate(parameters.items(), tablefmt='html') + '</center>'))\n",
    "\n",
    "def plot(a):\n",
    "    \n",
    "    idx = np.argmin(np.abs(a - angles))\n",
    "    \n",
    "    fig = plt.figure(figsize=(15, 9))\n",
    "    gs = GridSpec(1,2)\n",
    "    ax1 = fig.add_subplot(gs[0,0])\n",
    "    ax2 = fig.add_subplot(gs[0,1])\n",
    "    \n",
    "    extents = (np.min(x), np.max(x)), (np.min(y), np.max(y)), (np.min(z), np.max(z))\n",
    "    shapes = plus_brightness.shape[1:4]\n",
    "    extent = list()\n",
    "    dims = list()\n",
    "    for i in range(3):\n",
    "        if shapes[i] != 1:\n",
    "            extent += extents[i]\n",
    "            dims.append(('x', 'y', 'z')[i])\n",
    "    \n",
    "    bright1 = 20 * np.log10(plus_brightness[idx, ...].squeeze().T / np.max(plus_brightness[idx, ...]))\n",
    "    bright1[bright1 < -dynamic_range] = -dynamic_range\n",
    "    bright2= 20 * np.log10(minus_brightness[idx, ...].squeeze().T / np.max(minus_brightness[idx, ...]))\n",
    "    bright2[bright2 < -dynamic_range] = -dynamic_range\n",
    "    \n",
    "    im1 = ax1.imshow(bright1, origin='lower', extent=extent, vmin=-dynamic_range, vmax=0, interpolation='bilinear')\n",
    "    im2 = ax2.imshow(bright2, origin='lower', extent=extent, vmin=-dynamic_range, vmax=0, interpolation='bilinear')\n",
    "    \n",
    "    add_colorbar(im1)\n",
    "    add_colorbar(im2)\n",
    "    \n",
    "    ax1.set_title('Beamplot with correction, angle = ' + str(a) + ' deg + tol')\n",
    "    ax1.set_xlabel(dims[0] + ' (m)')\n",
    "    ax1.set_ylabel(dims[1] + ' (m)')\n",
    "    ax1.set_title('Beamplot with correction, angle = ' + str(a) + ' deg - tol')\n",
    "    ax2.set_xlabel(dims[0] + ' (m)')\n",
    "    ax2.set_ylabel(dims[1] + ' (m)')\n",
    "    \n",
    "    plt.tight_layout()\n",
    "    \n",
    "    return fig\n",
    "\n",
    "figs = list()\n",
    "for a in angles:\n",
    "    figs.append(plot(a))\n",
    "\n",
    "display(export_widget(figs))"
   ]
  },
  {
   "cell_type": "code",
   "execution_count": 1,
   "metadata": {},
   "outputs": [
    {
     "data": {
      "application/vnd.jupyter.widget-view+json": {
       "model_id": "44defa9949f04de294e9e35be5fd7b15",
       "version_major": 2,
       "version_minor": 0
      },
      "text/html": [
       "<p>Failed to display Jupyter Widget of type <code>Button</code>.</p>\n",
       "<p>\n",
       "  If you're reading this message in the Jupyter Notebook or JupyterLab Notebook, it may mean\n",
       "  that the widgets JavaScript is still loading. If this message persists, it\n",
       "  likely means that the widgets JavaScript library is either not installed or\n",
       "  not enabled. See the <a href=\"https://ipywidgets.readthedocs.io/en/stable/user_install.html\">Jupyter\n",
       "  Widgets Documentation</a> for setup instructions.\n",
       "</p>\n",
       "<p>\n",
       "  If you're reading this message in another frontend (for example, a static\n",
       "  rendering on GitHub or <a href=\"https://nbviewer.jupyter.org/\">NBViewer</a>),\n",
       "  it may mean that your frontend doesn't currently support widgets.\n",
       "</p>\n"
      ],
      "text/plain": [
       "Button(description='Export figures', style=ButtonStyle())"
      ]
     },
     "metadata": {},
     "output_type": "display_data"
    }
   ],
   "source": []
  },
  {
   "cell_type": "code",
   "execution_count": null,
   "metadata": {},
   "outputs": [],
   "source": []
  }
 ],
 "metadata": {
  "kernelspec": {
   "display_name": "Python 3",
   "language": "python",
   "name": "python3"
  },
  "language_info": {
   "codemirror_mode": {
    "name": "ipython",
    "version": 3
   },
   "file_extension": ".py",
   "mimetype": "text/x-python",
   "name": "python",
   "nbconvert_exporter": "python",
   "pygments_lexer": "ipython3",
   "version": "3.6.4"
  }
 },
 "nbformat": 4,
 "nbformat_minor": 2
}
