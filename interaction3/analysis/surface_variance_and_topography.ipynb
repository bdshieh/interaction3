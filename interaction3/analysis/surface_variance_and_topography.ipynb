{
 "cells": [
  {
   "cell_type": "raw",
   "metadata": {},
   "source": [
    "<script>\n",
    "  function code_toggle() {\n",
    "    if (code_shown){\n",
    "      $('div.input').hide('500');\n",
    "      $('#toggleButton').val('Show Code')\n",
    "    } else {\n",
    "      $('div.input').show('500');\n",
    "      $('#toggleButton').val('Hide Code')\n",
    "    }\n",
    "    code_shown = !code_shown\n",
    "  }\n",
    "\n",
    "  $( document ).ready(function(){\n",
    "    code_shown=false;\n",
    "    $('div.input').hide()\n",
    "  });\n",
    "</script>\n",
    "<form action=\"javascript:code_toggle()\"><input type=\"submit\" id=\"toggleButton\" value=\"Show Code\"></form>"
   ]
  },
  {
   "cell_type": "code",
   "execution_count": 1,
   "metadata": {},
   "outputs": [
    {
     "data": {
      "text/html": [
       "<center><table>\n",
       "<tbody>\n",
       "<tr><td>File   </td><td>D:/Data/1.8 um design small vernier/small_vernier_tx_data.h5</td></tr>\n",
       "<tr><td>Dataset</td><td>vdc_8                                                       </td></tr>\n",
       "</tbody>\n",
       "</table></center>"
      ],
      "text/plain": [
       "<IPython.core.display.HTML object>"
      ]
     },
     "metadata": {},
     "output_type": "execute_result"
    }
   ],
   "source": [
    "import numpy as np\n",
    "import scipy as sp\n",
    "import matplotlib\n",
    "from matplotlib import pyplot as plt\n",
    "%matplotlib notebook\n",
    "from tqdm import tqdm_notebook as tqdm\n",
    "import tabulate\n",
    "from IPython.display import display, HTML, Markdown\n",
    "from scipy.spatial.distance import cdist as dist\n",
    "from notebook_functions import open_file_dialog, read_h5_data, blue, orange\n",
    "\n",
    "############# SCRIPT PARAMETERS #############\n",
    "\n",
    "data_set = 'vdc_8'\n",
    "\n",
    "#############################################\n",
    "\n",
    "path_to_file = open_file_dialog()\n",
    "\n",
    "parameters = {'File': path_to_file,\n",
    "              'Dataset': data_set\n",
    "             }\n",
    "\n",
    "# display(Markdown('### <center> Notebook parameters </center>'))\n",
    "display(HTML('<center>' + tabulate.tabulate(parameters.items(), tablefmt='html') + '</center>'))"
   ]
  },
  {
   "cell_type": "code",
   "execution_count": 2,
   "metadata": {
    "collapsed": true
   },
   "outputs": [],
   "source": [
    "## load data from file\n",
    "if path_to_file is not None:\n",
    "    data = read_h5_data(path_to_file, data_set, add_zero_freq=True, minimal=False)"
   ]
  },
  {
   "cell_type": "code",
   "execution_count": 13,
   "metadata": {},
   "outputs": [],
   "source": [
    "freqs = data['freqs']\n",
    "x = data['x']\n",
    "x_mem = data['x_mem']\n",
    "x_ch = data['x_ch']\n",
    "\n",
    "x_var = np.var(np.abs(x), axis=0)\n",
    "x_mem_var = np.var(np.abs(x_mem), axis=0)\n",
    "x_ch_var = np.var(np.abs(x_ch), axis=0)"
   ]
  },
  {
   "cell_type": "code",
   "execution_count": 12,
   "metadata": {},
   "outputs": [
    {
     "data": {
      "text/plain": [
       "<IPython.core.display.Javascript object>"
      ]
     },
     "metadata": {},
     "output_type": "display_data"
    },
    {
     "data": {
      "text/html": [
       "<div id='ce01b24f-c820-4a56-b6e2-f297b2de87df'></div>"
      ],
      "text/plain": [
       "<IPython.core.display.HTML object>"
      ]
     },
     "metadata": {},
     "output_type": "execute_result"
    },
    {
     "ename": "NameError",
     "evalue": "name 'header' is not defined",
     "traceback": [
      "\u001b[1;31m---------------------------------------------------------------------------\u001b[0m",
      "\u001b[1;31mNameError\u001b[0m                                 Traceback (most recent call last)",
      "\u001b[1;32m<ipython-input-12-925c6f9d61b4>\u001b[0m in \u001b[0;36m<module>\u001b[1;34m()\u001b[0m\n\u001b[0;32m     75\u001b[0m \u001b[0mcid\u001b[0m \u001b[1;33m=\u001b[0m \u001b[0mfig\u001b[0m\u001b[1;33m.\u001b[0m\u001b[0mcanvas\u001b[0m\u001b[1;33m.\u001b[0m\u001b[0mmpl_connect\u001b[0m\u001b[1;33m(\u001b[0m\u001b[1;34m'button_press_event'\u001b[0m\u001b[1;33m,\u001b[0m \u001b[0monclick\u001b[0m\u001b[1;33m)\u001b[0m\u001b[1;33m\u001b[0m\u001b[0m\n\u001b[0;32m     76\u001b[0m \u001b[0mlines\u001b[0m \u001b[1;33m=\u001b[0m \u001b[0msurface_variance_plot\u001b[0m\u001b[1;33m(\u001b[0m\u001b[0mx_var\u001b[0m\u001b[1;33m,\u001b[0m \u001b[0mfreqs\u001b[0m\u001b[1;33m,\u001b[0m \u001b[0max\u001b[0m\u001b[1;33m=\u001b[0m\u001b[0max1\u001b[0m\u001b[1;33m,\u001b[0m \u001b[0mf\u001b[0m\u001b[1;33m=\u001b[0m\u001b[1;36m1e6\u001b[0m\u001b[1;33m,\u001b[0m \u001b[0mlines\u001b[0m\u001b[1;33m=\u001b[0m\u001b[1;32mNone\u001b[0m\u001b[1;33m,\u001b[0m \u001b[0mupdate\u001b[0m\u001b[1;33m=\u001b[0m\u001b[1;32mFalse\u001b[0m\u001b[1;33m)\u001b[0m\u001b[1;33m\u001b[0m\u001b[0m\n\u001b[1;32m---> 77\u001b[1;33m \u001b[0msurface_plot\u001b[0m\u001b[1;33m(\u001b[0m\u001b[0mheader\u001b[0m\u001b[1;33m,\u001b[0m \u001b[0mf\u001b[0m\u001b[1;33m=\u001b[0m\u001b[1;36m10e6\u001b[0m\u001b[1;33m,\u001b[0m \u001b[0max\u001b[0m\u001b[1;33m=\u001b[0m\u001b[0max2\u001b[0m\u001b[1;33m,\u001b[0m \u001b[0mcmap\u001b[0m\u001b[1;33m=\u001b[0m\u001b[1;34m'RdBu_r'\u001b[0m\u001b[1;33m,\u001b[0m \u001b[0mupdate\u001b[0m\u001b[1;33m=\u001b[0m\u001b[1;32mFalse\u001b[0m\u001b[1;33m)\u001b[0m\u001b[1;33m\u001b[0m\u001b[0m\n\u001b[0m\u001b[0;32m     78\u001b[0m \u001b[0mplt\u001b[0m\u001b[1;33m.\u001b[0m\u001b[0mtight_layout\u001b[0m\u001b[1;33m(\u001b[0m\u001b[1;33m)\u001b[0m\u001b[1;33m\u001b[0m\u001b[0m\n",
      "\u001b[1;31mNameError\u001b[0m: name 'header' is not defined"
     ],
     "output_type": "error"
    }
   ],
   "source": [
    "def surface_plot(meminfo, freqs, f, cmap='RdBu_r', ax=None, update=False):\n",
    "    \n",
    "    surfs = interpolate_surfaces(meminfo, freqs, f)\n",
    "    \n",
    "    if not update:\n",
    "        \n",
    "        for xig, yig, zi in surfs:\n",
    "            im = ax.pcolormesh(xig, yig, zi, cmap=cmap, shading='gouraud')\n",
    "\n",
    "        zmax = []\n",
    "        for mem in meminfo:\n",
    "\n",
    "            z = mem['x']\n",
    "            zmax.append(np.max(np.abs(np.real(z))))\n",
    "        \n",
    "        zmax = max(zmax)\n",
    "\n",
    "        ax.set_axis_off()\n",
    "        ax.set_aspect('equal')\n",
    "        \n",
    "    else:\n",
    "        \n",
    "        for im in [a for a in ax.get_children() if type(a) is mpl_toolkits.mplot3d.art3d.Poly3DCollection]:\n",
    "            im.remove()\n",
    "            \n",
    "        for xig, yig, zi in surfs:\n",
    "            im_new = ax.pcolormesh(xig, yig, zi, cmap=cmap, shading='gouraud')\n",
    "            \n",
    "            \n",
    "def surface_variance_plot(v, freqs, f, ax=None, lines=None, update=False):\n",
    "\n",
    "    i = np.argmin(np.abs(f - freqs))\n",
    "    \n",
    "    if not update:\n",
    "\n",
    "        v_line, = ax.plot(freqs/1e6, v, color=blue)\n",
    "        v_marker, = ax.plot(freqs[i]/1e6, v[i], color=blue, marker='o')\n",
    "\n",
    "        f_line = ax.axvline(x=freqs[i]/1e6, ls=':')\n",
    "\n",
    "        lines = [v_line, v_marker, f_line]\n",
    "        \n",
    "        ax.set_xlim(0, freqs.max()/1e6)\n",
    "        ax.set_xlabel('Frequency (MHz)')\n",
    "        ax.set_ylabel('Displacement variance')\n",
    "        \n",
    "        ax.grid('on')\n",
    "        \n",
    "        return lines\n",
    "    \n",
    "    else:\n",
    "\n",
    "        v_line, v_marker, f_line = lines\n",
    "        \n",
    "        v_marker.set_data(freqs[i]/1e6, v[i])\n",
    "        f_line.set_xdata(freqs[i]/1e6)\n",
    "\n",
    "\n",
    "def onclick(event):\n",
    "    \n",
    "    if event.inaxes in [ax1l, ax1r]:\n",
    "        \n",
    "        f = event.xdata*1e6\n",
    "        \n",
    "        surface_variance_plot(x_var, freqs, ax=ax1, f=f, lines=lines, update=True)\n",
    "        surface_plot(header, f=f, ax=ax2, cmap='RdBu_r', update=True)\n",
    "\n",
    "        \n",
    "fig = plt.figure(figsize=(9,9))\n",
    "gs = GridSpec(2,1)\n",
    "ax1 = fig.add_subplot(211)\n",
    "ax2 = fig.add_subplot(212)\n",
    "cid = fig.canvas.mpl_connect('button_press_event', onclick)\n",
    "lines = surface_variance_plot(x_var, freqs, ax=ax1, f=1e6, lines=None, update=False)\n",
    "# surface_plot(header, f=10e6, ax=ax2, cmap='RdBu_r', update=False)\n",
    "plt.tight_layout()\n"
   ]
  },
  {
   "cell_type": "code",
   "execution_count": null,
   "metadata": {
    "collapsed": true
   },
   "outputs": [],
   "source": []
  }
 ],
 "metadata": {
  "hide_input": false,
  "kernelspec": {
   "display_name": "Python 3",
   "language": "python",
   "name": "python3"
  },
  "language_info": {
   "codemirror_mode": {
    "name": "ipython",
    "version": 3
   },
   "file_extension": ".py",
   "mimetype": "text/x-python",
   "name": "python",
   "nbconvert_exporter": "python",
   "pygments_lexer": "ipython3",
   "version": "3.6.3"
  }
 },
 "nbformat": 4,
 "nbformat_minor": 2
}
